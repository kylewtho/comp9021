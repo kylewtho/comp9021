{
 "cells": [
  {
   "cell_type": "code",
   "execution_count": 4,
   "id": "dcef531d-bad2-49ab-816a-0086cd58ecec",
   "metadata": {},
   "outputs": [
    {
     "name": "stdin",
     "output_type": "stream",
     "text": [
      "Enter an integer at least equal to 3:  4\n",
      "Input the name of a file in the working directory:  sample_test_file_1.txt\n"
     ]
    }
   ],
   "source": [
    "# Written by Kyle for COMP9021\n",
    "#\n",
    "# Prompts the user for an integer at least equal to 3 and for the\n",
    "# name of a file, assumed to be stored in the working directory.\n",
    "#\n",
    "# The file can contain anywhere any number of blank lines\n",
    "# (that is, lines containing an arbitrary number of spaces\n",
    "# and tabs--an empty line being the limiting case).\n",
    "#\n",
    "# Nonblank lines are always of the form:\n",
    "#                Give me that_many characters\n",
    "# with any number of spaces at the beginning and at the end of the line\n",
    "# (possibly none) and with at least one space between successive words,\n",
    "# where that_many is one of 2, 3, 4, 5, 6, 7, 8 or 9\n",
    "# and where characters is one of dashes, stars, carets or dollars.\n",
    "#\n",
    "# Outputs text and \"pictures\" based on the provided input.\n",
    "#\n",
    "# Tip: Use a dictionary that maps 2 to the word two, 3 to the word three...\n",
    "#      Use another dictionary that maps the word dashes to the character -,\n",
    "#      the word stars to the character *...\n",
    "\n",
    "\n",
    "import sys\n",
    "from os.path import exists\n",
    "\n",
    "try:\n",
    "    size = int(input('Enter an integer at least equal to 3: '))\n",
    "    if size < 3:\n",
    "        raise ValueError\n",
    "except ValueError:\n",
    "    print('Incorrect input, giving up.')\n",
    "    sys.exit()\n",
    "file_name = input('Input the name of a file '\n",
    "                  'in the working directory: '\n",
    "                 ).removesuffix('\\n')\n",
    "if not exists(file_name):\n",
    "    print('Incorrect input, giving up.')\n",
    "    sys.exit()\n",
    "\n",
    "# INSERT YOUR CODE HERE\n",
    "that_many = {\n",
    "    2: 'two', \n",
    "    3: 'three', \n",
    "    4: 'four', \n",
    "    5: 'five', \n",
    "    6: 'six', \n",
    "    7: 'seven', \n",
    "    8: 'eight', \n",
    "    9: 'nine'}\n",
    "\n",
    "characters = {\n",
    "    'dashes': '-', \n",
    "    'stars': '*', \n",
    "    'carets': '^', \n",
    "    'dollars': '$'}"
   ]
  },
  {
   "cell_type": "code",
   "execution_count": 5,
   "id": "2411cd20-1e07-409d-9e0d-88a3d2efc309",
   "metadata": {},
   "outputs": [
    {
     "name": "stdout",
     "output_type": "stream",
     "text": [
      "Here is your coffee table of size 4\n",
      "     ----\n",
      "    /|  /|\n",
      "    ----\n",
      "    |  |\n",
      "\n"
     ]
    }
   ],
   "source": [
    "# Question 1\n",
    "print(f'''Here is your coffee table of size {size}\n",
    "     {'-' * size}\n",
    "    /|{' ' * (size - 2)}/|\n",
    "    {'-' * size}\n",
    "    |{' ' * (size - 2)}|\n",
    "''')"
   ]
  },
  {
   "cell_type": "code",
   "execution_count": 10,
   "id": "bde6c7f8-dc9d-41cd-960b-6675b8a27bdc",
   "metadata": {},
   "outputs": [
    {
     "name": "stdout",
     "output_type": "stream",
     "text": [
      "Here are your two dashes:\n",
      "    - -\n",
      "     - -\n",
      "Here are your five stars:\n",
      "    * * * * *\n",
      "     * * * * *\n",
      "Here are your four dashes:\n",
      "    - - - -\n",
      "     - - - -\n"
     ]
    }
   ],
   "source": [
    "# Question 2\n",
    "with open(file_name) as file:\n",
    "    for line in file:\n",
    "        s = line.strip()\n",
    "        if s.startswith('Give'):\n",
    "            x = line.split()\n",
    "            how_many, character = int(x[2]), x[3]\n",
    "\n",
    "            print(f'Here are your {that_many[how_many]} {character}:')\n",
    "            print(f'    {(characters[character] + \" \") * (how_many-1)}{characters[character]}')\n",
    "\n",
    "            print('   ', ' '.join([characters[character] for x in range(how_many)]))"
   ]
  },
  {
   "cell_type": "code",
   "execution_count": null,
   "id": "6856f42b-e32e-41a5-95f6-96701402f3d6",
   "metadata": {},
   "outputs": [],
   "source": []
  }
 ],
 "metadata": {
  "kernelspec": {
   "display_name": "Python 3 (ipykernel)",
   "language": "python",
   "name": "python3"
  },
  "language_info": {
   "codemirror_mode": {
    "name": "ipython",
    "version": 3
   },
   "file_extension": ".py",
   "mimetype": "text/x-python",
   "name": "python",
   "nbconvert_exporter": "python",
   "pygments_lexer": "ipython3",
   "version": "3.11.5"
  }
 },
 "nbformat": 4,
 "nbformat_minor": 5
}
