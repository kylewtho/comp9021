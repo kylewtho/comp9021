{
 "cells": [
  {
   "cell_type": "code",
   "execution_count": 1,
   "id": "ea715e12-e8cb-40a5-813f-c385e96c9b12",
   "metadata": {},
   "outputs": [
    {
     "name": "stdin",
     "output_type": "stream",
     "text": [
      "Enter a permutation of 0, ..., n for some n >= 0:  0 1\n",
      "Enter two integers, the second one between 0 and 10:  0 0\n"
     ]
    },
    {
     "name": "stdout",
     "output_type": "stream",
     "text": [
      "Here is your list:\n",
      "   [0, 1]\n",
      "Here is my list:\n",
      "   []\n"
     ]
    }
   ],
   "source": [
    "from random import seed, shuffle\n",
    "import sys\n",
    "\n",
    "\n",
    "try: \n",
    "    your_list = [int(x) for x in\n",
    "                     input('Enter a permutation of 0, ..., n '\n",
    "                           'for some n >= 0: '\n",
    "                          ).split()\n",
    "                ]\n",
    "    if not your_list:\n",
    "        raise ValueError\n",
    "    your_list_as_set = set(your_list)\n",
    "    if len(your_list_as_set) != len(your_list)\\\n",
    "       or your_list_as_set != set(range(len(your_list))):\n",
    "        raise ValueError\n",
    "except ValueError:\n",
    "    print('Incorrect input, giving up.')\n",
    "    sys.exit()\n",
    "try: \n",
    "    for_seed, length =\\\n",
    "        (int(x) for x in input('Enter two integers, '\n",
    "                               'the second one between 0 and 10: '\n",
    "                              ).split()\n",
    "        )\n",
    "    if not 0 <= length <= 10:\n",
    "        raise ValueError\n",
    "except ValueError:\n",
    "    print('Incorrect input, giving up.')\n",
    "    sys.exit()\n",
    "seed(for_seed)\n",
    "my_list = list(range(length))\n",
    "shuffle(my_list)\n",
    "print('Here is your list:')\n",
    "print('  ', your_list)\n",
    "print('Here is my list:')\n",
    "print('  ', my_list)"
   ]
  },
  {
   "cell_type": "code",
   "execution_count": 2,
   "id": "9d7951d8-c4a7-4a68-987d-ce844d962c6c",
   "metadata": {},
   "outputs": [
    {
     "name": "stdout",
     "output_type": "stream",
     "text": [
      "\n",
      "Removing again and again the currently largest\n",
      "or smallest element in your list for as long as\n",
      "it currently starts or ends the list, we get:\n",
      "[]\n",
      "\n",
      "That's how to travel in my list:\n"
     ]
    }
   ],
   "source": [
    "# INSERT THE FIRST PART OF YOUR CODE HERE\n",
    "\n",
    "while your_list != []:\n",
    "    # find out the largest or smallest numbers\n",
    "    max_num = max(your_list)\n",
    "    min_num = min(your_list)\n",
    "    # remove the maximum or minimum number if it starts or ends the list\n",
    "    if your_list[0] == max_num or your_list[-1] == max_num:\n",
    "        your_list.remove(max_num)\n",
    "    elif your_list[0] == min_num or your_list[-1] == min_num:\n",
    "        your_list.remove(min_num)\n",
    "    # break when no number can be removed\n",
    "    else:\n",
    "        break\n",
    "\n",
    "print()\n",
    "print('Removing again and again the currently largest\\n'\n",
    "      'or smallest element in your list for as long as\\n'\n",
    "      'it currently starts or ends the list, we get:'\n",
    "     )\n",
    "print(your_list)\n",
    "print()\n",
    "print(\"That's how to travel in my list:\")"
   ]
  },
  {
   "cell_type": "code",
   "execution_count": 20,
   "id": "d2ecddd0-7a34-429a-8a4b-1fe5e38420b3",
   "metadata": {},
   "outputs": [
    {
     "name": "stdout",
     "output_type": "stream",
     "text": [
      "    0\n",
      "  1--\n",
      "2--\n",
      "--------3\n",
      "      4--\n"
     ]
    }
   ],
   "source": [
    "# INSERT THE SECOND PART OF YOUR CODE HERE\n",
    "\n",
    "my_list = [2, 1, 0, 4, 3]\n",
    "\n",
    "for i in range(len(my_list)):\n",
    "    if i == 0:\n",
    "        print(('  ' * my_list.index(i) + str(i)))\n",
    "    else:\n",
    "        last_index = my_list.index(i-1)\n",
    "        this_index = my_list.index(i)\n",
    "        # find out the difference between the last number and this number\n",
    "        move = this_index - last_index\n",
    "        # moves to the right if the difference is positive\n",
    "        if move > 0:\n",
    "            print('  ' * last_index + '--' * move + str(i))\n",
    "        # moves to the left if the difference is negative\n",
    "        elif move < 0:\n",
    "            print('  ' * this_index + str(i) + '--' * abs(move))"
   ]
  },
  {
   "cell_type": "code",
   "execution_count": null,
   "id": "e0fafafe-de53-490d-b717-fc9d0dc6203e",
   "metadata": {},
   "outputs": [],
   "source": []
  }
 ],
 "metadata": {
  "kernelspec": {
   "display_name": "Python 3 (ipykernel)",
   "language": "python",
   "name": "python3"
  },
  "language_info": {
   "codemirror_mode": {
    "name": "ipython",
    "version": 3
   },
   "file_extension": ".py",
   "mimetype": "text/x-python",
   "name": "python",
   "nbconvert_exporter": "python",
   "pygments_lexer": "ipython3",
   "version": "3.11.5"
  }
 },
 "nbformat": 4,
 "nbformat_minor": 5
}
